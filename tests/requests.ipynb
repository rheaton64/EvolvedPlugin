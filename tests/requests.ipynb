{
 "cells": [
  {
   "cell_type": "code",
   "execution_count": null,
   "metadata": {},
   "outputs": [],
   "source": [
    "import requests\n",
    "import json\n",
    "from IPython.display import display, HTML, Image, Video\n",
    "\n",
    "def display_url(url):\n",
    "    if url.endswith('.png') or url.endswith('.jpg') or url.endswith('.jpeg') or url.endswith('.gif'):\n",
    "        display(Image(url=url))\n",
    "    elif url.endswith('.mp4') or url.endswith('.webm'):\n",
    "        display(Video(url=url))\n",
    "    else:\n",
    "        html = HTML(f'<a href=\"{url}\" target=\"_blank\">Click here to view the file</a>')\n",
    "        display(html)\n",
    "\n",
    "data = {\n",
    "    # CHANGE THE PROMPT HERE\n",
    "    \"prompt\": \"say out loud the law and order svu intro\",\n",
    "}\n",
    "\n",
    "response = requests.post(\"http://0.0.0.0:5003/agents/hfta\", json=data)\n",
    "\n",
    "if response.status_code == 200:\n",
    "    response_data = response.json()\n",
    "    if 'url' in response_data:\n",
    "        display_url(response_data['url'])\n",
    "    else:\n",
    "        print(json.dumps(response_data, indent=4))\n",
    "else:\n",
    "    print(f\"Request failed with status code {response.status_code}\")\n",
    "    print(response.text)\n"
   ]
  }
 ],
 "metadata": {
  "kernelspec": {
   "display_name": ".venv",
   "language": "python",
   "name": "python3"
  },
  "language_info": {
   "codemirror_mode": {
    "name": "ipython",
    "version": 3
   },
   "file_extension": ".py",
   "mimetype": "text/x-python",
   "name": "python",
   "nbconvert_exporter": "python",
   "pygments_lexer": "ipython3",
   "version": "3.11.3"
  },
  "orig_nbformat": 4
 },
 "nbformat": 4,
 "nbformat_minor": 2
}
